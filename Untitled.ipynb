{
 "cells": [
  {
   "cell_type": "code",
   "execution_count": 1,
   "metadata": {},
   "outputs": [],
   "source": [
    "import pandas as pd\n",
    "import numpy as np"
   ]
  },
  {
   "cell_type": "code",
   "execution_count": 2,
   "metadata": {},
   "outputs": [],
   "source": [
    "df_train = pd.read_excel('Train_dataset.xlsx')\n",
    "df_test = pd.read_excel('Test_dataset.xlsx')"
   ]
  },
  {
   "cell_type": "code",
   "execution_count": 3,
   "metadata": {},
   "outputs": [
    {
     "data": {
      "text/html": [
       "<div>\n",
       "<style scoped>\n",
       "    .dataframe tbody tr th:only-of-type {\n",
       "        vertical-align: middle;\n",
       "    }\n",
       "\n",
       "    .dataframe tbody tr th {\n",
       "        vertical-align: top;\n",
       "    }\n",
       "\n",
       "    .dataframe thead th {\n",
       "        text-align: right;\n",
       "    }\n",
       "</style>\n",
       "<table border=\"1\" class=\"dataframe\">\n",
       "  <thead>\n",
       "    <tr style=\"text-align: right;\">\n",
       "      <th></th>\n",
       "      <th>Stock Index</th>\n",
       "      <th>Index</th>\n",
       "      <th>Industry</th>\n",
       "      <th>VWAP</th>\n",
       "      <th>General Index</th>\n",
       "      <th>NAV</th>\n",
       "      <th>P/E Ratio</th>\n",
       "      <th>Volumes Traded</th>\n",
       "      <th>Inventory Turnover</th>\n",
       "      <th>Covid Impact (Beta)</th>\n",
       "      <th>Tracking Error</th>\n",
       "      <th>Dollar Exchange Rate</th>\n",
       "      <th>Put-Call Ratio</th>\n",
       "      <th>P/B Ratio</th>\n",
       "      <th>Stock Price</th>\n",
       "    </tr>\n",
       "  </thead>\n",
       "  <tbody>\n",
       "    <tr>\n",
       "      <td>0</td>\n",
       "      <td>AA1</td>\n",
       "      <td>NYSE</td>\n",
       "      <td>Real Estate</td>\n",
       "      <td>700.29</td>\n",
       "      <td>12765.84</td>\n",
       "      <td>32.38</td>\n",
       "      <td>45.35</td>\n",
       "      <td>1208599.0</td>\n",
       "      <td>5.05</td>\n",
       "      <td>-0.43</td>\n",
       "      <td>0.0520</td>\n",
       "      <td>1.0</td>\n",
       "      <td>0.61</td>\n",
       "      <td>9.20</td>\n",
       "      <td>156.987852</td>\n",
       "    </tr>\n",
       "    <tr>\n",
       "      <td>1</td>\n",
       "      <td>AA2</td>\n",
       "      <td>NYSE</td>\n",
       "      <td>Information Tech</td>\n",
       "      <td>214.52</td>\n",
       "      <td>12765.84</td>\n",
       "      <td>33.25</td>\n",
       "      <td>170.56</td>\n",
       "      <td>13753356.0</td>\n",
       "      <td>3.10</td>\n",
       "      <td>0.23</td>\n",
       "      <td>0.0164</td>\n",
       "      <td>1.0</td>\n",
       "      <td>NaN</td>\n",
       "      <td>6.91</td>\n",
       "      <td>560.859622</td>\n",
       "    </tr>\n",
       "    <tr>\n",
       "      <td>2</td>\n",
       "      <td>AA3</td>\n",
       "      <td>NYSE</td>\n",
       "      <td>Information Tech</td>\n",
       "      <td>943.42</td>\n",
       "      <td>12765.84</td>\n",
       "      <td>88.27</td>\n",
       "      <td>143.58</td>\n",
       "      <td>6892003.0</td>\n",
       "      <td>7.70</td>\n",
       "      <td>0.23</td>\n",
       "      <td>0.0396</td>\n",
       "      <td>1.0</td>\n",
       "      <td>NaN</td>\n",
       "      <td>6.09</td>\n",
       "      <td>1279.732874</td>\n",
       "    </tr>\n",
       "    <tr>\n",
       "      <td>3</td>\n",
       "      <td>AA4</td>\n",
       "      <td>BSE</td>\n",
       "      <td>Materials</td>\n",
       "      <td>828.13</td>\n",
       "      <td>38182.08</td>\n",
       "      <td>73.66</td>\n",
       "      <td>151.76</td>\n",
       "      <td>8316793.0</td>\n",
       "      <td>4.80</td>\n",
       "      <td>0.03</td>\n",
       "      <td>0.0431</td>\n",
       "      <td>74.9</td>\n",
       "      <td>1.11</td>\n",
       "      <td>5.60</td>\n",
       "      <td>1121.787632</td>\n",
       "    </tr>\n",
       "    <tr>\n",
       "      <td>4</td>\n",
       "      <td>AA5</td>\n",
       "      <td>S&amp;P 500</td>\n",
       "      <td>Real Estate</td>\n",
       "      <td>NaN</td>\n",
       "      <td>3351.28</td>\n",
       "      <td>23.79</td>\n",
       "      <td>NaN</td>\n",
       "      <td>3943312.0</td>\n",
       "      <td>8.06</td>\n",
       "      <td>-0.43</td>\n",
       "      <td>0.0244</td>\n",
       "      <td>1.0</td>\n",
       "      <td>1.07</td>\n",
       "      <td>9.46</td>\n",
       "      <td>382.962534</td>\n",
       "    </tr>\n",
       "  </tbody>\n",
       "</table>\n",
       "</div>"
      ],
      "text/plain": [
       "  Stock Index    Index          Industry    VWAP  General Index    NAV  \\\n",
       "0         AA1     NYSE       Real Estate  700.29       12765.84  32.38   \n",
       "1         AA2     NYSE  Information Tech  214.52       12765.84  33.25   \n",
       "2         AA3     NYSE  Information Tech  943.42       12765.84  88.27   \n",
       "3         AA4      BSE         Materials  828.13       38182.08  73.66   \n",
       "4         AA5  S&P 500       Real Estate     NaN        3351.28  23.79   \n",
       "\n",
       "   P/E Ratio  Volumes Traded  Inventory Turnover  Covid Impact (Beta)  \\\n",
       "0      45.35       1208599.0                5.05                -0.43   \n",
       "1     170.56      13753356.0                3.10                 0.23   \n",
       "2     143.58       6892003.0                7.70                 0.23   \n",
       "3     151.76       8316793.0                4.80                 0.03   \n",
       "4        NaN       3943312.0                8.06                -0.43   \n",
       "\n",
       "   Tracking Error  Dollar Exchange Rate  Put-Call Ratio  P/B Ratio  \\\n",
       "0          0.0520                   1.0            0.61       9.20   \n",
       "1          0.0164                   1.0             NaN       6.91   \n",
       "2          0.0396                   1.0             NaN       6.09   \n",
       "3          0.0431                  74.9            1.11       5.60   \n",
       "4          0.0244                   1.0            1.07       9.46   \n",
       "\n",
       "   Stock Price  \n",
       "0   156.987852  \n",
       "1   560.859622  \n",
       "2  1279.732874  \n",
       "3  1121.787632  \n",
       "4   382.962534  "
      ]
     },
     "execution_count": 3,
     "metadata": {},
     "output_type": "execute_result"
    }
   ],
   "source": [
    "df_train.head()"
   ]
  },
  {
   "cell_type": "code",
   "execution_count": 4,
   "metadata": {},
   "outputs": [
    {
     "name": "stdout",
     "output_type": "stream",
     "text": [
      "<class 'pandas.core.frame.DataFrame'>\n",
      "RangeIndex: 7383 entries, 0 to 7382\n",
      "Data columns (total 15 columns):\n",
      "Stock Index             7383 non-null object\n",
      "Index                   7383 non-null object\n",
      "Industry                7383 non-null object\n",
      "VWAP                    7345 non-null float64\n",
      "General Index           7321 non-null float64\n",
      "NAV                     7322 non-null float64\n",
      "P/E Ratio               7149 non-null float64\n",
      "Volumes Traded          7115 non-null float64\n",
      "Inventory Turnover      6984 non-null float64\n",
      "Covid Impact (Beta)     7007 non-null float64\n",
      "Tracking Error          7312 non-null float64\n",
      "Dollar Exchange Rate    7306 non-null float64\n",
      "Put-Call Ratio          7298 non-null float64\n",
      "P/B Ratio               7358 non-null float64\n",
      "Stock Price             7383 non-null float64\n",
      "dtypes: float64(12), object(3)\n",
      "memory usage: 865.3+ KB\n"
     ]
    }
   ],
   "source": [
    "df_train.info()"
   ]
  },
  {
   "cell_type": "code",
   "execution_count": 5,
   "metadata": {},
   "outputs": [
    {
     "data": {
      "text/plain": [
       "<bound method NDFrame.describe of      Stock Index    Index          Industry    VWAP  General Index    NAV  \\\n",
       "0            AA1     NYSE       Real Estate  700.29       12765.84  32.38   \n",
       "1            AA2     NYSE  Information Tech  214.52       12765.84  33.25   \n",
       "2            AA3     NYSE  Information Tech  943.42       12765.84  88.27   \n",
       "3            AA4      BSE         Materials  828.13       38182.08  73.66   \n",
       "4            AA5  S&P 500       Real Estate     NaN        3351.28  23.79   \n",
       "...          ...      ...               ...     ...            ...    ...   \n",
       "7378      AC3230      NSE        Healthcare  773.91       11270.15  40.28   \n",
       "7379      AC3231      JSE  Information Tech   61.97       55722.00  79.56   \n",
       "7380      AC3232      JSE         Materials  131.99       55722.00  26.16   \n",
       "7381      AC3233  S&P 500         Materials  643.72        3351.28  29.24   \n",
       "7382      AC3234  S&P 500  Information Tech  126.46        3351.28  23.30   \n",
       "\n",
       "      P/E Ratio  Volumes Traded  Inventory Turnover  Covid Impact (Beta)  \\\n",
       "0         45.35       1208599.0                5.05                -0.43   \n",
       "1        170.56      13753356.0                3.10                 0.23   \n",
       "2        143.58       6892003.0                7.70                 0.23   \n",
       "3        151.76       8316793.0                4.80                 0.03   \n",
       "4           NaN       3943312.0                8.06                -0.43   \n",
       "...         ...             ...                 ...                  ...   \n",
       "7378      61.37      19212221.0                4.34                 0.78   \n",
       "7379      62.90       8108942.0                3.48                 0.23   \n",
       "7380     198.77       8382586.0                3.04                 0.03   \n",
       "7381      38.83      18638400.0                2.66                 0.03   \n",
       "7382     105.83      14707806.0                7.51                 0.23   \n",
       "\n",
       "      Tracking Error  Dollar Exchange Rate  Put-Call Ratio  P/B Ratio  \\\n",
       "0             0.0520                   1.0            0.61       9.20   \n",
       "1             0.0164                   1.0             NaN       6.91   \n",
       "2             0.0396                   1.0             NaN       6.09   \n",
       "3             0.0431                  74.9            1.11       5.60   \n",
       "4             0.0244                   1.0            1.07       9.46   \n",
       "...              ...                   ...             ...        ...   \n",
       "7378          0.0340                  74.9            0.98        NaN   \n",
       "7379          0.0528                  17.7            0.84        NaN   \n",
       "7380          0.0359                  17.7            1.22        NaN   \n",
       "7381          0.0581                   1.0            1.04        NaN   \n",
       "7382          0.0490                   1.0            1.23        NaN   \n",
       "\n",
       "      Stock Price  \n",
       "0      156.987852  \n",
       "1      560.859622  \n",
       "2     1279.732874  \n",
       "3     1121.787632  \n",
       "4      382.962534  \n",
       "...           ...  \n",
       "7378   248.019321  \n",
       "7379   494.555631  \n",
       "7380   500.869063  \n",
       "7381   113.170686  \n",
       "7382   236.641085  \n",
       "\n",
       "[7383 rows x 15 columns]>"
      ]
     },
     "execution_count": 5,
     "metadata": {},
     "output_type": "execute_result"
    }
   ],
   "source": [
    "df_train.describe"
   ]
  },
  {
   "cell_type": "code",
   "execution_count": 6,
   "metadata": {},
   "outputs": [
    {
     "data": {
      "text/html": [
       "<div>\n",
       "<style scoped>\n",
       "    .dataframe tbody tr th:only-of-type {\n",
       "        vertical-align: middle;\n",
       "    }\n",
       "\n",
       "    .dataframe tbody tr th {\n",
       "        vertical-align: top;\n",
       "    }\n",
       "\n",
       "    .dataframe thead th {\n",
       "        text-align: right;\n",
       "    }\n",
       "</style>\n",
       "<table border=\"1\" class=\"dataframe\">\n",
       "  <thead>\n",
       "    <tr style=\"text-align: right;\">\n",
       "      <th></th>\n",
       "      <th>Stock Index</th>\n",
       "      <th>Index</th>\n",
       "      <th>Industry</th>\n",
       "      <th>VWAP</th>\n",
       "      <th>General Index</th>\n",
       "      <th>NAV</th>\n",
       "      <th>P/E Ratio</th>\n",
       "      <th>Volumes Traded</th>\n",
       "      <th>Inventory Turnover</th>\n",
       "      <th>Covid Impact (Beta)</th>\n",
       "      <th>Tracking Error</th>\n",
       "      <th>Dollar Exchange Rate</th>\n",
       "      <th>Put-Call Ratio</th>\n",
       "      <th>P/B Ratio</th>\n",
       "    </tr>\n",
       "  </thead>\n",
       "  <tbody>\n",
       "    <tr>\n",
       "      <td>0</td>\n",
       "      <td>AC3235</td>\n",
       "      <td>NSE</td>\n",
       "      <td>Materials</td>\n",
       "      <td>53.30</td>\n",
       "      <td>11270.15</td>\n",
       "      <td>44.59</td>\n",
       "      <td>185.09</td>\n",
       "      <td>12067855.0</td>\n",
       "      <td>2.78</td>\n",
       "      <td>0.03</td>\n",
       "      <td>0.0330</td>\n",
       "      <td>74.9</td>\n",
       "      <td>0.80</td>\n",
       "      <td>4.66</td>\n",
       "    </tr>\n",
       "    <tr>\n",
       "      <td>1</td>\n",
       "      <td>AC3236</td>\n",
       "      <td>JSE</td>\n",
       "      <td>Energy</td>\n",
       "      <td>749.34</td>\n",
       "      <td>55722.00</td>\n",
       "      <td>74.20</td>\n",
       "      <td>34.01</td>\n",
       "      <td>6172474.0</td>\n",
       "      <td>6.78</td>\n",
       "      <td>0.11</td>\n",
       "      <td>0.0464</td>\n",
       "      <td>17.7</td>\n",
       "      <td>0.86</td>\n",
       "      <td>6.11</td>\n",
       "    </tr>\n",
       "    <tr>\n",
       "      <td>2</td>\n",
       "      <td>AC3237</td>\n",
       "      <td>S&amp;P 500</td>\n",
       "      <td>Information Tech</td>\n",
       "      <td>567.75</td>\n",
       "      <td>3351.28</td>\n",
       "      <td>88.41</td>\n",
       "      <td>177.40</td>\n",
       "      <td>17472488.0</td>\n",
       "      <td>4.36</td>\n",
       "      <td>0.23</td>\n",
       "      <td>0.0401</td>\n",
       "      <td>1.0</td>\n",
       "      <td>0.93</td>\n",
       "      <td>4.99</td>\n",
       "    </tr>\n",
       "    <tr>\n",
       "      <td>3</td>\n",
       "      <td>AC3238</td>\n",
       "      <td>NSE</td>\n",
       "      <td>Healthcare</td>\n",
       "      <td>646.78</td>\n",
       "      <td>11270.15</td>\n",
       "      <td>79.36</td>\n",
       "      <td>105.44</td>\n",
       "      <td>15553159.0</td>\n",
       "      <td>2.77</td>\n",
       "      <td>0.78</td>\n",
       "      <td>0.0187</td>\n",
       "      <td>74.9</td>\n",
       "      <td>1.09</td>\n",
       "      <td>1.26</td>\n",
       "    </tr>\n",
       "    <tr>\n",
       "      <td>4</td>\n",
       "      <td>AC3239</td>\n",
       "      <td>NYSE</td>\n",
       "      <td>Materials</td>\n",
       "      <td>380.33</td>\n",
       "      <td>12765.84</td>\n",
       "      <td>19.90</td>\n",
       "      <td>139.40</td>\n",
       "      <td>12525784.0</td>\n",
       "      <td>5.93</td>\n",
       "      <td>0.03</td>\n",
       "      <td>0.0261</td>\n",
       "      <td>1.0</td>\n",
       "      <td>NaN</td>\n",
       "      <td>6.18</td>\n",
       "    </tr>\n",
       "  </tbody>\n",
       "</table>\n",
       "</div>"
      ],
      "text/plain": [
       "  Stock Index    Index          Industry    VWAP  General Index    NAV  \\\n",
       "0      AC3235      NSE         Materials   53.30       11270.15  44.59   \n",
       "1      AC3236      JSE            Energy  749.34       55722.00  74.20   \n",
       "2      AC3237  S&P 500  Information Tech  567.75        3351.28  88.41   \n",
       "3      AC3238      NSE        Healthcare  646.78       11270.15  79.36   \n",
       "4      AC3239     NYSE         Materials  380.33       12765.84  19.90   \n",
       "\n",
       "   P/E Ratio  Volumes Traded  Inventory Turnover  Covid Impact (Beta)  \\\n",
       "0     185.09      12067855.0                2.78                 0.03   \n",
       "1      34.01       6172474.0                6.78                 0.11   \n",
       "2     177.40      17472488.0                4.36                 0.23   \n",
       "3     105.44      15553159.0                2.77                 0.78   \n",
       "4     139.40      12525784.0                5.93                 0.03   \n",
       "\n",
       "   Tracking Error  Dollar Exchange Rate  Put-Call Ratio  P/B Ratio  \n",
       "0          0.0330                  74.9            0.80       4.66  \n",
       "1          0.0464                  17.7            0.86       6.11  \n",
       "2          0.0401                   1.0            0.93       4.99  \n",
       "3          0.0187                  74.9            1.09       1.26  \n",
       "4          0.0261                   1.0             NaN       6.18  "
      ]
     },
     "execution_count": 6,
     "metadata": {},
     "output_type": "execute_result"
    }
   ],
   "source": [
    "df_test.head()"
   ]
  },
  {
   "cell_type": "code",
   "execution_count": 7,
   "metadata": {},
   "outputs": [
    {
     "name": "stdout",
     "output_type": "stream",
     "text": [
      "<class 'pandas.core.frame.DataFrame'>\n",
      "RangeIndex: 3331 entries, 0 to 3330\n",
      "Data columns (total 14 columns):\n",
      "Stock Index             3331 non-null object\n",
      "Index                   3331 non-null object\n",
      "Industry                3331 non-null object\n",
      "VWAP                    3319 non-null float64\n",
      "General Index           3060 non-null float64\n",
      "NAV                     3056 non-null float64\n",
      "P/E Ratio               3039 non-null float64\n",
      "Volumes Traded          3283 non-null float64\n",
      "Inventory Turnover      3301 non-null float64\n",
      "Covid Impact (Beta)     3300 non-null float64\n",
      "Tracking Error          3205 non-null float64\n",
      "Dollar Exchange Rate    3188 non-null float64\n",
      "Put-Call Ratio          2902 non-null float64\n",
      "P/B Ratio               3193 non-null float64\n",
      "dtypes: float64(11), object(3)\n",
      "memory usage: 364.5+ KB\n"
     ]
    }
   ],
   "source": [
    "df_test.info()"
   ]
  },
  {
   "cell_type": "code",
   "execution_count": 8,
   "metadata": {},
   "outputs": [
    {
     "data": {
      "text/plain": [
       "<bound method NDFrame.describe of      Stock Index    Index          Industry    VWAP  General Index    NAV  \\\n",
       "0         AC3235      NSE         Materials   53.30       11270.15  44.59   \n",
       "1         AC3236      JSE            Energy  749.34       55722.00  74.20   \n",
       "2         AC3237  S&P 500  Information Tech  567.75        3351.28  88.41   \n",
       "3         AC3238      NSE        Healthcare  646.78       11270.15  79.36   \n",
       "4         AC3239     NYSE         Materials  380.33       12765.84  19.90   \n",
       "...          ...      ...               ...     ...            ...    ...   \n",
       "3326      AD2734      NSE            Energy  121.58       11270.15  11.93   \n",
       "3327      AD2735      BSE            Energy  692.25       38182.08    NaN   \n",
       "3328      AD2736      NSE            Energy  911.37       11270.15    NaN   \n",
       "3329      AD2737      BSE        Healthcare  479.38       38182.08  20.52   \n",
       "3330      AD2738     NYSE  Information Tech  431.43       12765.84  76.46   \n",
       "\n",
       "      P/E Ratio  Volumes Traded  Inventory Turnover  Covid Impact (Beta)  \\\n",
       "0        185.09      12067855.0                2.78                 0.03   \n",
       "1         34.01       6172474.0                6.78                 0.11   \n",
       "2        177.40      17472488.0                4.36                 0.23   \n",
       "3        105.44      15553159.0                2.77                 0.78   \n",
       "4        139.40      12525784.0                5.93                 0.03   \n",
       "...         ...             ...                 ...                  ...   \n",
       "3326     122.28      14034395.0                2.87                 0.11   \n",
       "3327        NaN             NaN                 NaN                 0.11   \n",
       "3328        NaN             NaN                 NaN                 0.11   \n",
       "3329     176.89       3069831.0                3.60                 0.78   \n",
       "3330     172.70      12358856.0                6.68                 0.23   \n",
       "\n",
       "      Tracking Error  Dollar Exchange Rate  Put-Call Ratio  P/B Ratio  \n",
       "0             0.0330                  74.9            0.80       4.66  \n",
       "1             0.0464                  17.7            0.86       6.11  \n",
       "2             0.0401                   1.0            0.93       4.99  \n",
       "3             0.0187                  74.9            1.09       1.26  \n",
       "4             0.0261                   1.0             NaN       6.18  \n",
       "...              ...                   ...             ...        ...  \n",
       "3326          0.0602                  74.9            0.86       7.87  \n",
       "3327          0.0388                  74.9            0.64       0.95  \n",
       "3328          0.0166                  74.9            0.67       7.54  \n",
       "3329          0.0495                  74.9            0.79       4.01  \n",
       "3330          0.0609                   1.0            0.74       4.98  \n",
       "\n",
       "[3331 rows x 14 columns]>"
      ]
     },
     "execution_count": 8,
     "metadata": {},
     "output_type": "execute_result"
    }
   ],
   "source": [
    "df_test.describe"
   ]
  },
  {
   "cell_type": "code",
   "execution_count": 9,
   "metadata": {},
   "outputs": [
    {
     "name": "stdout",
     "output_type": "stream",
     "text": [
      "<class 'pandas.core.frame.DataFrame'>\n",
      "RangeIndex: 7383 entries, 0 to 7382\n",
      "Data columns (total 15 columns):\n",
      "Stock Index             7383 non-null object\n",
      "Index                   7383 non-null object\n",
      "Industry                7383 non-null object\n",
      "VWAP                    7383 non-null float64\n",
      "General Index           7383 non-null float64\n",
      "NAV                     7383 non-null float64\n",
      "P/E Ratio               7383 non-null float64\n",
      "Volumes Traded          7383 non-null float64\n",
      "Inventory Turnover      7383 non-null float64\n",
      "Covid Impact (Beta)     7383 non-null float64\n",
      "Tracking Error          7383 non-null float64\n",
      "Dollar Exchange Rate    7306 non-null float64\n",
      "Put-Call Ratio          7383 non-null float64\n",
      "P/B Ratio               7383 non-null float64\n",
      "Stock Price             7383 non-null float64\n",
      "dtypes: float64(12), object(3)\n",
      "memory usage: 865.3+ KB\n"
     ]
    }
   ],
   "source": [
    "df_train['VWAP'].fillna(df_train['VWAP'].mean(), inplace = True) \n",
    "df_train['General Index'].fillna(df_train['General Index'].mean(), inplace = True) \n",
    "df_train['NAV'].fillna(df_train['NAV'].mean(), inplace = True) \n",
    "df_train['P/E Ratio'].fillna(df_train['P/E Ratio'].mean(), inplace = True) \n",
    "df_train['Volumes Traded'].fillna(df_train['Volumes Traded'].mean(), inplace = True) \n",
    "df_train['Inventory Turnover'].fillna(df_train['Inventory Turnover'].mean(), inplace = True) \n",
    "df_train['Covid Impact (Beta)'].fillna(df_train['Covid Impact (Beta)'].mean(), inplace = True) \n",
    "df_train['Put-Call Ratio'].fillna(df_train['Put-Call Ratio'].mean(), inplace = True) \n",
    "df_train['P/B Ratio'].fillna(df_train['P/B Ratio'].mean(), inplace = True) \n",
    "\n",
    "df_train['Tracking Error'].fillna(0, inplace = True) \n",
    "\n",
    "df_train.info()"
   ]
  },
  {
   "cell_type": "code",
   "execution_count": 10,
   "metadata": {},
   "outputs": [
    {
     "data": {
      "text/plain": [
       "array([ 1. , 74.9,  nan, 17.7])"
      ]
     },
     "execution_count": 10,
     "metadata": {},
     "output_type": "execute_result"
    }
   ],
   "source": [
    "df_train['Dollar Exchange Rate'].unique()"
   ]
  },
  {
   "cell_type": "code",
   "execution_count": 11,
   "metadata": {},
   "outputs": [
    {
     "name": "stdout",
     "output_type": "stream",
     "text": [
      "<class 'pandas.core.frame.DataFrame'>\n",
      "RangeIndex: 7383 entries, 0 to 7382\n",
      "Data columns (total 15 columns):\n",
      "Stock Index             7383 non-null object\n",
      "Index                   7383 non-null object\n",
      "Industry                7383 non-null object\n",
      "VWAP                    7383 non-null float64\n",
      "General Index           7383 non-null float64\n",
      "NAV                     7383 non-null float64\n",
      "P/E Ratio               7383 non-null float64\n",
      "Volumes Traded          7383 non-null float64\n",
      "Inventory Turnover      7383 non-null float64\n",
      "Covid Impact (Beta)     7383 non-null float64\n",
      "Tracking Error          7383 non-null float64\n",
      "Dollar Exchange Rate    7383 non-null float64\n",
      "Put-Call Ratio          7383 non-null float64\n",
      "P/B Ratio               7383 non-null float64\n",
      "Stock Price             7383 non-null float64\n",
      "dtypes: float64(12), object(3)\n",
      "memory usage: 865.3+ KB\n"
     ]
    }
   ],
   "source": [
    "import random\n",
    "\n",
    "a = [1.0,74.9,17.7]\n",
    "df_train['Dollar Exchange Rate'].fillna(random.choice(a), inplace = True)\n",
    "\n",
    "df_train.info()"
   ]
  },
  {
   "cell_type": "code",
   "execution_count": 12,
   "metadata": {},
   "outputs": [
    {
     "name": "stdout",
     "output_type": "stream",
     "text": [
      "<class 'pandas.core.frame.DataFrame'>\n",
      "RangeIndex: 3331 entries, 0 to 3330\n",
      "Data columns (total 14 columns):\n",
      "Stock Index             3331 non-null object\n",
      "Index                   3331 non-null object\n",
      "Industry                3331 non-null object\n",
      "VWAP                    3319 non-null float64\n",
      "General Index           3060 non-null float64\n",
      "NAV                     3056 non-null float64\n",
      "P/E Ratio               3039 non-null float64\n",
      "Volumes Traded          3283 non-null float64\n",
      "Inventory Turnover      3301 non-null float64\n",
      "Covid Impact (Beta)     3300 non-null float64\n",
      "Tracking Error          3205 non-null float64\n",
      "Dollar Exchange Rate    3188 non-null float64\n",
      "Put-Call Ratio          2902 non-null float64\n",
      "P/B Ratio               3193 non-null float64\n",
      "dtypes: float64(11), object(3)\n",
      "memory usage: 364.5+ KB\n"
     ]
    }
   ],
   "source": [
    "df_test.info()"
   ]
  },
  {
   "cell_type": "code",
   "execution_count": 13,
   "metadata": {},
   "outputs": [
    {
     "name": "stdout",
     "output_type": "stream",
     "text": [
      "<class 'pandas.core.frame.DataFrame'>\n",
      "RangeIndex: 3331 entries, 0 to 3330\n",
      "Data columns (total 14 columns):\n",
      "Stock Index             3331 non-null object\n",
      "Index                   3331 non-null object\n",
      "Industry                3331 non-null object\n",
      "VWAP                    3331 non-null float64\n",
      "General Index           3331 non-null float64\n",
      "NAV                     3331 non-null float64\n",
      "P/E Ratio               3331 non-null float64\n",
      "Volumes Traded          3331 non-null float64\n",
      "Inventory Turnover      3331 non-null float64\n",
      "Covid Impact (Beta)     3331 non-null float64\n",
      "Tracking Error          3331 non-null float64\n",
      "Dollar Exchange Rate    3188 non-null float64\n",
      "Put-Call Ratio          3331 non-null float64\n",
      "P/B Ratio               3331 non-null float64\n",
      "dtypes: float64(11), object(3)\n",
      "memory usage: 364.5+ KB\n"
     ]
    }
   ],
   "source": [
    "df_test['VWAP'].fillna(df_test['VWAP'].mean(), inplace = True) \n",
    "df_test['General Index'].fillna(df_test['General Index'].mean(), inplace = True) \n",
    "df_test['NAV'].fillna(df_test['NAV'].mean(), inplace = True) \n",
    "df_test['P/E Ratio'].fillna(df_test['P/E Ratio'].mean(), inplace = True) \n",
    "df_test['Volumes Traded'].fillna(df_test['Volumes Traded'].mean(), inplace = True) \n",
    "df_test['Inventory Turnover'].fillna(df_test['Inventory Turnover'].mean(), inplace = True) \n",
    "df_test['Covid Impact (Beta)'].fillna(df_test['Covid Impact (Beta)'].mean(), inplace = True) \n",
    "df_test['Put-Call Ratio'].fillna(df_test['Put-Call Ratio'].mean(), inplace = True) \n",
    "df_test['P/B Ratio'].fillna(df_test['P/B Ratio'].mean(), inplace = True) \n",
    "\n",
    "df_test['Tracking Error'].fillna(0, inplace = True) \n",
    "\n",
    "df_test.info()"
   ]
  },
  {
   "cell_type": "code",
   "execution_count": 14,
   "metadata": {},
   "outputs": [
    {
     "data": {
      "text/plain": [
       "array([74.9, 17.7,  1. ,  nan])"
      ]
     },
     "execution_count": 14,
     "metadata": {},
     "output_type": "execute_result"
    }
   ],
   "source": [
    "df_test['Dollar Exchange Rate'].unique()"
   ]
  },
  {
   "cell_type": "code",
   "execution_count": 15,
   "metadata": {},
   "outputs": [
    {
     "name": "stdout",
     "output_type": "stream",
     "text": [
      "<class 'pandas.core.frame.DataFrame'>\n",
      "RangeIndex: 3331 entries, 0 to 3330\n",
      "Data columns (total 14 columns):\n",
      "Stock Index             3331 non-null object\n",
      "Index                   3331 non-null object\n",
      "Industry                3331 non-null object\n",
      "VWAP                    3331 non-null float64\n",
      "General Index           3331 non-null float64\n",
      "NAV                     3331 non-null float64\n",
      "P/E Ratio               3331 non-null float64\n",
      "Volumes Traded          3331 non-null float64\n",
      "Inventory Turnover      3331 non-null float64\n",
      "Covid Impact (Beta)     3331 non-null float64\n",
      "Tracking Error          3331 non-null float64\n",
      "Dollar Exchange Rate    3331 non-null float64\n",
      "Put-Call Ratio          3331 non-null float64\n",
      "P/B Ratio               3331 non-null float64\n",
      "dtypes: float64(11), object(3)\n",
      "memory usage: 364.5+ KB\n"
     ]
    }
   ],
   "source": [
    "df_test['Dollar Exchange Rate'].fillna(random.choice(a), inplace = True)\n",
    "\n",
    "df_test.info()"
   ]
  },
  {
   "cell_type": "code",
   "execution_count": 16,
   "metadata": {},
   "outputs": [
    {
     "data": {
      "text/plain": [
       "array(['NYSE', 'BSE', 'S&P 500', 'NSE', 'JSE'], dtype=object)"
      ]
     },
     "execution_count": 16,
     "metadata": {},
     "output_type": "execute_result"
    }
   ],
   "source": [
    "df_train['Index'].unique()"
   ]
  },
  {
   "cell_type": "code",
   "execution_count": 17,
   "metadata": {},
   "outputs": [
    {
     "data": {
      "text/plain": [
       "array(['Real Estate', 'Information Tech', 'Materials', 'Healthcare',\n",
       "       'Energy'], dtype=object)"
      ]
     },
     "execution_count": 17,
     "metadata": {},
     "output_type": "execute_result"
    }
   ],
   "source": [
    "df_train['Industry'].unique()"
   ]
  },
  {
   "cell_type": "code",
   "execution_count": 18,
   "metadata": {},
   "outputs": [],
   "source": [
    "cleanups = {\"Index\" : {\"NYSE\":1, \"BSE\":2, \"S&P 500\":3, \"NSE\":4, \"JSE\":5},\n",
    "            \"Industry\" : {\"Real Estate\":1, \"Information Tech\":2, \"Materials\":3, \"Healthcare\":4, \"Energy\":5}}\n",
    "\n",
    "df_train.replace(cleanups, inplace = True)"
   ]
  },
  {
   "cell_type": "code",
   "execution_count": 19,
   "metadata": {},
   "outputs": [
    {
     "data": {
      "text/html": [
       "<div>\n",
       "<style scoped>\n",
       "    .dataframe tbody tr th:only-of-type {\n",
       "        vertical-align: middle;\n",
       "    }\n",
       "\n",
       "    .dataframe tbody tr th {\n",
       "        vertical-align: top;\n",
       "    }\n",
       "\n",
       "    .dataframe thead th {\n",
       "        text-align: right;\n",
       "    }\n",
       "</style>\n",
       "<table border=\"1\" class=\"dataframe\">\n",
       "  <thead>\n",
       "    <tr style=\"text-align: right;\">\n",
       "      <th></th>\n",
       "      <th>Stock Index</th>\n",
       "      <th>Index</th>\n",
       "      <th>Industry</th>\n",
       "      <th>VWAP</th>\n",
       "      <th>General Index</th>\n",
       "      <th>NAV</th>\n",
       "      <th>P/E Ratio</th>\n",
       "      <th>Volumes Traded</th>\n",
       "      <th>Inventory Turnover</th>\n",
       "      <th>Covid Impact (Beta)</th>\n",
       "      <th>Tracking Error</th>\n",
       "      <th>Dollar Exchange Rate</th>\n",
       "      <th>Put-Call Ratio</th>\n",
       "      <th>P/B Ratio</th>\n",
       "      <th>Stock Price</th>\n",
       "    </tr>\n",
       "  </thead>\n",
       "  <tbody>\n",
       "    <tr>\n",
       "      <td>0</td>\n",
       "      <td>AA1</td>\n",
       "      <td>1</td>\n",
       "      <td>1</td>\n",
       "      <td>700.290000</td>\n",
       "      <td>12765.84</td>\n",
       "      <td>32.38</td>\n",
       "      <td>45.350000</td>\n",
       "      <td>1208599.0</td>\n",
       "      <td>5.05</td>\n",
       "      <td>-0.43</td>\n",
       "      <td>0.0520</td>\n",
       "      <td>1.0</td>\n",
       "      <td>0.610000</td>\n",
       "      <td>9.20</td>\n",
       "      <td>156.987852</td>\n",
       "    </tr>\n",
       "    <tr>\n",
       "      <td>1</td>\n",
       "      <td>AA2</td>\n",
       "      <td>1</td>\n",
       "      <td>2</td>\n",
       "      <td>214.520000</td>\n",
       "      <td>12765.84</td>\n",
       "      <td>33.25</td>\n",
       "      <td>170.560000</td>\n",
       "      <td>13753356.0</td>\n",
       "      <td>3.10</td>\n",
       "      <td>0.23</td>\n",
       "      <td>0.0164</td>\n",
       "      <td>1.0</td>\n",
       "      <td>0.944722</td>\n",
       "      <td>6.91</td>\n",
       "      <td>560.859622</td>\n",
       "    </tr>\n",
       "    <tr>\n",
       "      <td>2</td>\n",
       "      <td>AA3</td>\n",
       "      <td>1</td>\n",
       "      <td>2</td>\n",
       "      <td>943.420000</td>\n",
       "      <td>12765.84</td>\n",
       "      <td>88.27</td>\n",
       "      <td>143.580000</td>\n",
       "      <td>6892003.0</td>\n",
       "      <td>7.70</td>\n",
       "      <td>0.23</td>\n",
       "      <td>0.0396</td>\n",
       "      <td>1.0</td>\n",
       "      <td>0.944722</td>\n",
       "      <td>6.09</td>\n",
       "      <td>1279.732874</td>\n",
       "    </tr>\n",
       "    <tr>\n",
       "      <td>3</td>\n",
       "      <td>AA4</td>\n",
       "      <td>2</td>\n",
       "      <td>3</td>\n",
       "      <td>828.130000</td>\n",
       "      <td>38182.08</td>\n",
       "      <td>73.66</td>\n",
       "      <td>151.760000</td>\n",
       "      <td>8316793.0</td>\n",
       "      <td>4.80</td>\n",
       "      <td>0.03</td>\n",
       "      <td>0.0431</td>\n",
       "      <td>74.9</td>\n",
       "      <td>1.110000</td>\n",
       "      <td>5.60</td>\n",
       "      <td>1121.787632</td>\n",
       "    </tr>\n",
       "    <tr>\n",
       "      <td>4</td>\n",
       "      <td>AA5</td>\n",
       "      <td>3</td>\n",
       "      <td>1</td>\n",
       "      <td>486.188167</td>\n",
       "      <td>3351.28</td>\n",
       "      <td>23.79</td>\n",
       "      <td>105.543623</td>\n",
       "      <td>3943312.0</td>\n",
       "      <td>8.06</td>\n",
       "      <td>-0.43</td>\n",
       "      <td>0.0244</td>\n",
       "      <td>1.0</td>\n",
       "      <td>1.070000</td>\n",
       "      <td>9.46</td>\n",
       "      <td>382.962534</td>\n",
       "    </tr>\n",
       "  </tbody>\n",
       "</table>\n",
       "</div>"
      ],
      "text/plain": [
       "  Stock Index  Index  Industry        VWAP  General Index    NAV   P/E Ratio  \\\n",
       "0         AA1      1         1  700.290000       12765.84  32.38   45.350000   \n",
       "1         AA2      1         2  214.520000       12765.84  33.25  170.560000   \n",
       "2         AA3      1         2  943.420000       12765.84  88.27  143.580000   \n",
       "3         AA4      2         3  828.130000       38182.08  73.66  151.760000   \n",
       "4         AA5      3         1  486.188167        3351.28  23.79  105.543623   \n",
       "\n",
       "   Volumes Traded  Inventory Turnover  Covid Impact (Beta)  Tracking Error  \\\n",
       "0       1208599.0                5.05                -0.43          0.0520   \n",
       "1      13753356.0                3.10                 0.23          0.0164   \n",
       "2       6892003.0                7.70                 0.23          0.0396   \n",
       "3       8316793.0                4.80                 0.03          0.0431   \n",
       "4       3943312.0                8.06                -0.43          0.0244   \n",
       "\n",
       "   Dollar Exchange Rate  Put-Call Ratio  P/B Ratio  Stock Price  \n",
       "0                   1.0        0.610000       9.20   156.987852  \n",
       "1                   1.0        0.944722       6.91   560.859622  \n",
       "2                   1.0        0.944722       6.09  1279.732874  \n",
       "3                  74.9        1.110000       5.60  1121.787632  \n",
       "4                   1.0        1.070000       9.46   382.962534  "
      ]
     },
     "execution_count": 19,
     "metadata": {},
     "output_type": "execute_result"
    }
   ],
   "source": [
    "df_train.head()"
   ]
  },
  {
   "cell_type": "code",
   "execution_count": 20,
   "metadata": {},
   "outputs": [
    {
     "data": {
      "text/html": [
       "<div>\n",
       "<style scoped>\n",
       "    .dataframe tbody tr th:only-of-type {\n",
       "        vertical-align: middle;\n",
       "    }\n",
       "\n",
       "    .dataframe tbody tr th {\n",
       "        vertical-align: top;\n",
       "    }\n",
       "\n",
       "    .dataframe thead th {\n",
       "        text-align: right;\n",
       "    }\n",
       "</style>\n",
       "<table border=\"1\" class=\"dataframe\">\n",
       "  <thead>\n",
       "    <tr style=\"text-align: right;\">\n",
       "      <th></th>\n",
       "      <th>Stock Index</th>\n",
       "      <th>Index</th>\n",
       "      <th>Industry</th>\n",
       "      <th>VWAP</th>\n",
       "      <th>General Index</th>\n",
       "      <th>NAV</th>\n",
       "      <th>P/E Ratio</th>\n",
       "      <th>Volumes Traded</th>\n",
       "      <th>Inventory Turnover</th>\n",
       "      <th>Covid Impact (Beta)</th>\n",
       "      <th>Tracking Error</th>\n",
       "      <th>Dollar Exchange Rate</th>\n",
       "      <th>Put-Call Ratio</th>\n",
       "      <th>P/B Ratio</th>\n",
       "    </tr>\n",
       "  </thead>\n",
       "  <tbody>\n",
       "    <tr>\n",
       "      <td>0</td>\n",
       "      <td>AC3235</td>\n",
       "      <td>4</td>\n",
       "      <td>3</td>\n",
       "      <td>53.30</td>\n",
       "      <td>11270.15</td>\n",
       "      <td>44.59</td>\n",
       "      <td>185.09</td>\n",
       "      <td>12067855.0</td>\n",
       "      <td>2.78</td>\n",
       "      <td>0.03</td>\n",
       "      <td>0.0330</td>\n",
       "      <td>74.9</td>\n",
       "      <td>0.800000</td>\n",
       "      <td>4.66</td>\n",
       "    </tr>\n",
       "    <tr>\n",
       "      <td>1</td>\n",
       "      <td>AC3236</td>\n",
       "      <td>5</td>\n",
       "      <td>5</td>\n",
       "      <td>749.34</td>\n",
       "      <td>55722.00</td>\n",
       "      <td>74.20</td>\n",
       "      <td>34.01</td>\n",
       "      <td>6172474.0</td>\n",
       "      <td>6.78</td>\n",
       "      <td>0.11</td>\n",
       "      <td>0.0464</td>\n",
       "      <td>17.7</td>\n",
       "      <td>0.860000</td>\n",
       "      <td>6.11</td>\n",
       "    </tr>\n",
       "    <tr>\n",
       "      <td>2</td>\n",
       "      <td>AC3237</td>\n",
       "      <td>3</td>\n",
       "      <td>2</td>\n",
       "      <td>567.75</td>\n",
       "      <td>3351.28</td>\n",
       "      <td>88.41</td>\n",
       "      <td>177.40</td>\n",
       "      <td>17472488.0</td>\n",
       "      <td>4.36</td>\n",
       "      <td>0.23</td>\n",
       "      <td>0.0401</td>\n",
       "      <td>1.0</td>\n",
       "      <td>0.930000</td>\n",
       "      <td>4.99</td>\n",
       "    </tr>\n",
       "    <tr>\n",
       "      <td>3</td>\n",
       "      <td>AC3238</td>\n",
       "      <td>4</td>\n",
       "      <td>4</td>\n",
       "      <td>646.78</td>\n",
       "      <td>11270.15</td>\n",
       "      <td>79.36</td>\n",
       "      <td>105.44</td>\n",
       "      <td>15553159.0</td>\n",
       "      <td>2.77</td>\n",
       "      <td>0.78</td>\n",
       "      <td>0.0187</td>\n",
       "      <td>74.9</td>\n",
       "      <td>1.090000</td>\n",
       "      <td>1.26</td>\n",
       "    </tr>\n",
       "    <tr>\n",
       "      <td>4</td>\n",
       "      <td>AC3239</td>\n",
       "      <td>1</td>\n",
       "      <td>3</td>\n",
       "      <td>380.33</td>\n",
       "      <td>12765.84</td>\n",
       "      <td>19.90</td>\n",
       "      <td>139.40</td>\n",
       "      <td>12525784.0</td>\n",
       "      <td>5.93</td>\n",
       "      <td>0.03</td>\n",
       "      <td>0.0261</td>\n",
       "      <td>1.0</td>\n",
       "      <td>0.938828</td>\n",
       "      <td>6.18</td>\n",
       "    </tr>\n",
       "  </tbody>\n",
       "</table>\n",
       "</div>"
      ],
      "text/plain": [
       "  Stock Index  Index  Industry    VWAP  General Index    NAV  P/E Ratio  \\\n",
       "0      AC3235      4         3   53.30       11270.15  44.59     185.09   \n",
       "1      AC3236      5         5  749.34       55722.00  74.20      34.01   \n",
       "2      AC3237      3         2  567.75        3351.28  88.41     177.40   \n",
       "3      AC3238      4         4  646.78       11270.15  79.36     105.44   \n",
       "4      AC3239      1         3  380.33       12765.84  19.90     139.40   \n",
       "\n",
       "   Volumes Traded  Inventory Turnover  Covid Impact (Beta)  Tracking Error  \\\n",
       "0      12067855.0                2.78                 0.03          0.0330   \n",
       "1       6172474.0                6.78                 0.11          0.0464   \n",
       "2      17472488.0                4.36                 0.23          0.0401   \n",
       "3      15553159.0                2.77                 0.78          0.0187   \n",
       "4      12525784.0                5.93                 0.03          0.0261   \n",
       "\n",
       "   Dollar Exchange Rate  Put-Call Ratio  P/B Ratio  \n",
       "0                  74.9        0.800000       4.66  \n",
       "1                  17.7        0.860000       6.11  \n",
       "2                   1.0        0.930000       4.99  \n",
       "3                  74.9        1.090000       1.26  \n",
       "4                   1.0        0.938828       6.18  "
      ]
     },
     "execution_count": 20,
     "metadata": {},
     "output_type": "execute_result"
    }
   ],
   "source": [
    "df_test.replace(cleanups, inplace = True)\n",
    "df_test.head()"
   ]
  },
  {
   "cell_type": "code",
   "execution_count": 21,
   "metadata": {},
   "outputs": [],
   "source": [
    "from sklearn.preprocessing import LabelEncoder\n",
    "le = LabelEncoder()\n",
    "df_train['Stock Index'] = le.fit_transform(df_train['Stock Index'])\n",
    "df_test['Stock Index'] = le.fit_transform(df_test['Stock Index'])"
   ]
  },
  {
   "cell_type": "code",
   "execution_count": 22,
   "metadata": {},
   "outputs": [
    {
     "data": {
      "text/html": [
       "<div>\n",
       "<style scoped>\n",
       "    .dataframe tbody tr th:only-of-type {\n",
       "        vertical-align: middle;\n",
       "    }\n",
       "\n",
       "    .dataframe tbody tr th {\n",
       "        vertical-align: top;\n",
       "    }\n",
       "\n",
       "    .dataframe thead th {\n",
       "        text-align: right;\n",
       "    }\n",
       "</style>\n",
       "<table border=\"1\" class=\"dataframe\">\n",
       "  <thead>\n",
       "    <tr style=\"text-align: right;\">\n",
       "      <th></th>\n",
       "      <th>Stock Index</th>\n",
       "      <th>Index</th>\n",
       "      <th>Industry</th>\n",
       "      <th>VWAP</th>\n",
       "      <th>General Index</th>\n",
       "      <th>NAV</th>\n",
       "      <th>P/E Ratio</th>\n",
       "      <th>Volumes Traded</th>\n",
       "      <th>Inventory Turnover</th>\n",
       "      <th>Covid Impact (Beta)</th>\n",
       "      <th>Tracking Error</th>\n",
       "      <th>Dollar Exchange Rate</th>\n",
       "      <th>Put-Call Ratio</th>\n",
       "      <th>P/B Ratio</th>\n",
       "    </tr>\n",
       "  </thead>\n",
       "  <tbody>\n",
       "    <tr>\n",
       "      <td>0</td>\n",
       "      <td>0</td>\n",
       "      <td>1</td>\n",
       "      <td>1</td>\n",
       "      <td>700.290000</td>\n",
       "      <td>12765.84</td>\n",
       "      <td>32.38</td>\n",
       "      <td>45.350000</td>\n",
       "      <td>1208599.0</td>\n",
       "      <td>5.05</td>\n",
       "      <td>-0.43</td>\n",
       "      <td>0.0520</td>\n",
       "      <td>1.0</td>\n",
       "      <td>0.610000</td>\n",
       "      <td>9.20</td>\n",
       "    </tr>\n",
       "    <tr>\n",
       "      <td>1</td>\n",
       "      <td>427</td>\n",
       "      <td>1</td>\n",
       "      <td>2</td>\n",
       "      <td>214.520000</td>\n",
       "      <td>12765.84</td>\n",
       "      <td>33.25</td>\n",
       "      <td>170.560000</td>\n",
       "      <td>13753356.0</td>\n",
       "      <td>3.10</td>\n",
       "      <td>0.23</td>\n",
       "      <td>0.0164</td>\n",
       "      <td>1.0</td>\n",
       "      <td>0.944722</td>\n",
       "      <td>6.91</td>\n",
       "    </tr>\n",
       "    <tr>\n",
       "      <td>2</td>\n",
       "      <td>538</td>\n",
       "      <td>1</td>\n",
       "      <td>2</td>\n",
       "      <td>943.420000</td>\n",
       "      <td>12765.84</td>\n",
       "      <td>88.27</td>\n",
       "      <td>143.580000</td>\n",
       "      <td>6892003.0</td>\n",
       "      <td>7.70</td>\n",
       "      <td>0.23</td>\n",
       "      <td>0.0396</td>\n",
       "      <td>1.0</td>\n",
       "      <td>0.944722</td>\n",
       "      <td>6.09</td>\n",
       "    </tr>\n",
       "    <tr>\n",
       "      <td>3</td>\n",
       "      <td>649</td>\n",
       "      <td>2</td>\n",
       "      <td>3</td>\n",
       "      <td>828.130000</td>\n",
       "      <td>38182.08</td>\n",
       "      <td>73.66</td>\n",
       "      <td>151.760000</td>\n",
       "      <td>8316793.0</td>\n",
       "      <td>4.80</td>\n",
       "      <td>0.03</td>\n",
       "      <td>0.0431</td>\n",
       "      <td>74.9</td>\n",
       "      <td>1.110000</td>\n",
       "      <td>5.60</td>\n",
       "    </tr>\n",
       "    <tr>\n",
       "      <td>4</td>\n",
       "      <td>760</td>\n",
       "      <td>3</td>\n",
       "      <td>1</td>\n",
       "      <td>486.188167</td>\n",
       "      <td>3351.28</td>\n",
       "      <td>23.79</td>\n",
       "      <td>105.543623</td>\n",
       "      <td>3943312.0</td>\n",
       "      <td>8.06</td>\n",
       "      <td>-0.43</td>\n",
       "      <td>0.0244</td>\n",
       "      <td>1.0</td>\n",
       "      <td>1.070000</td>\n",
       "      <td>9.46</td>\n",
       "    </tr>\n",
       "  </tbody>\n",
       "</table>\n",
       "</div>"
      ],
      "text/plain": [
       "   Stock Index  Index  Industry        VWAP  General Index    NAV   P/E Ratio  \\\n",
       "0            0      1         1  700.290000       12765.84  32.38   45.350000   \n",
       "1          427      1         2  214.520000       12765.84  33.25  170.560000   \n",
       "2          538      1         2  943.420000       12765.84  88.27  143.580000   \n",
       "3          649      2         3  828.130000       38182.08  73.66  151.760000   \n",
       "4          760      3         1  486.188167        3351.28  23.79  105.543623   \n",
       "\n",
       "   Volumes Traded  Inventory Turnover  Covid Impact (Beta)  Tracking Error  \\\n",
       "0       1208599.0                5.05                -0.43          0.0520   \n",
       "1      13753356.0                3.10                 0.23          0.0164   \n",
       "2       6892003.0                7.70                 0.23          0.0396   \n",
       "3       8316793.0                4.80                 0.03          0.0431   \n",
       "4       3943312.0                8.06                -0.43          0.0244   \n",
       "\n",
       "   Dollar Exchange Rate  Put-Call Ratio  P/B Ratio  \n",
       "0                   1.0        0.610000       9.20  \n",
       "1                   1.0        0.944722       6.91  \n",
       "2                   1.0        0.944722       6.09  \n",
       "3                  74.9        1.110000       5.60  \n",
       "4                   1.0        1.070000       9.46  "
      ]
     },
     "execution_count": 22,
     "metadata": {},
     "output_type": "execute_result"
    }
   ],
   "source": [
    "df_train_x = df_train.copy(deep = True)\n",
    "df_train_x.drop(columns = 'Stock Price', inplace = True)\n",
    "df_train_x.head()"
   ]
  },
  {
   "cell_type": "code",
   "execution_count": 23,
   "metadata": {},
   "outputs": [
    {
     "data": {
      "text/plain": [
       "0     156.987852\n",
       "1     560.859622\n",
       "2    1279.732874\n",
       "3    1121.787632\n",
       "4     382.962534\n",
       "Name: Stock Price, dtype: float64"
      ]
     },
     "execution_count": 23,
     "metadata": {},
     "output_type": "execute_result"
    }
   ],
   "source": [
    "df_train_y = df_train['Stock Price']\n",
    "df_train_y.head()"
   ]
  },
  {
   "cell_type": "code",
   "execution_count": 24,
   "metadata": {},
   "outputs": [
    {
     "data": {
      "text/plain": [
       "'\\nfrom sklearn.preprocessing import PolynomialFeatures\\nfrom sklearn.linear_model import LinearRegression\\n\\npoly_reg = PolynomialFeatures(degree = 15)\\nx_poly = poly_reg.fit_transform(df_train_x)\\nlin_reg = LinearRegression()\\nlin_reg.fit(x_poly, df_train_y)\\n\\npoly_result = lin_reg.predict(poly_reg.fit_transform(df_test))\\n'"
      ]
     },
     "execution_count": 24,
     "metadata": {},
     "output_type": "execute_result"
    }
   ],
   "source": [
    "'''\n",
    "from sklearn.preprocessing import PolynomialFeatures\n",
    "from sklearn.linear_model import LinearRegression\n",
    "\n",
    "poly_reg = PolynomialFeatures(degree = 15)\n",
    "x_poly = poly_reg.fit_transform(df_train_x)\n",
    "lin_reg = LinearRegression()\n",
    "lin_reg.fit(x_poly, df_train_y)\n",
    "\n",
    "poly_result = lin_reg.predict(poly_reg.fit_transform(df_test))\n",
    "'''"
   ]
  },
  {
   "cell_type": "code",
   "execution_count": 25,
   "metadata": {},
   "outputs": [],
   "source": [
    "from sklearn.linear_model import LinearRegression\n",
    "\n",
    "le = LinearRegression()\n",
    "le.fit(df_train_x, df_train_y)\n",
    "\n",
    "lin_result = le.predict(df_test)"
   ]
  },
  {
   "cell_type": "code",
   "execution_count": 26,
   "metadata": {},
   "outputs": [
    {
     "data": {
      "text/plain": [
       "array([ 879.3107926 ,  420.33625461, 1318.67408538, ...,  571.72431487,\n",
       "        589.72911568, 1159.84109816])"
      ]
     },
     "execution_count": 26,
     "metadata": {},
     "output_type": "execute_result"
    }
   ],
   "source": [
    "lin_result"
   ]
  },
  {
   "cell_type": "code",
   "execution_count": 27,
   "metadata": {},
   "outputs": [],
   "source": [
    "from sklearn.linear_model import Lasso\n",
    "\n",
    "lassoreg = Lasso(normalize=True, max_iter=1e5)\n",
    "lassoreg.fit(df_train_x,df_train_y)\n",
    "\n",
    "las_result = lassoreg.predict(df_test)"
   ]
  },
  {
   "cell_type": "code",
   "execution_count": 28,
   "metadata": {},
   "outputs": [
    {
     "data": {
      "text/plain": [
       "array([ 792.26606794,  443.29914219, 1078.21946172, ...,  562.99619691,\n",
       "        589.01877101,  974.97597346])"
      ]
     },
     "execution_count": 28,
     "metadata": {},
     "output_type": "execute_result"
    }
   ],
   "source": [
    "las_result"
   ]
  },
  {
   "cell_type": "code",
   "execution_count": 29,
   "metadata": {},
   "outputs": [],
   "source": [
    "from sklearn.linear_model import Ridge\n",
    "\n",
    "ridgereg = Ridge(normalize=True)\n",
    "ridgereg.fit(df_train_x,df_train_y)\n",
    "\n",
    "rid_result = ridgereg.predict(df_test)"
   ]
  },
  {
   "cell_type": "code",
   "execution_count": 30,
   "metadata": {},
   "outputs": [
    {
     "data": {
      "text/plain": [
       "array([722.51550216, 496.33400842, 937.88626594, ..., 565.53729414,\n",
       "       583.56422172, 863.28886184])"
      ]
     },
     "execution_count": 30,
     "metadata": {},
     "output_type": "execute_result"
    }
   ],
   "source": [
    "rid_result"
   ]
  },
  {
   "cell_type": "code",
   "execution_count": 31,
   "metadata": {},
   "outputs": [],
   "source": [
    "from numpy import asarray\n",
    "from numpy import savetxt\n",
    "\n",
    "data = asarray(las_result)\n",
    "savetxt('part1.csv',data, delimiter = ',')"
   ]
  },
  {
   "cell_type": "code",
   "execution_count": null,
   "metadata": {},
   "outputs": [],
   "source": []
  }
 ],
 "metadata": {
  "kernelspec": {
   "display_name": "Python 3",
   "language": "python",
   "name": "python3"
  },
  "language_info": {
   "codemirror_mode": {
    "name": "ipython",
    "version": 3
   },
   "file_extension": ".py",
   "mimetype": "text/x-python",
   "name": "python",
   "nbconvert_exporter": "python",
   "pygments_lexer": "ipython3",
   "version": "3.7.4"
  }
 },
 "nbformat": 4,
 "nbformat_minor": 2
}
